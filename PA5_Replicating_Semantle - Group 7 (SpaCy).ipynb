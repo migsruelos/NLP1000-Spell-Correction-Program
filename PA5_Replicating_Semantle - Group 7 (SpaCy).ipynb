{
 "cells": [
  {
   "cell_type": "markdown",
   "metadata": {
    "id": "3i3m9JjeM5U5"
   },
   "source": [
    "# **Programming Assessment \\#5 - V.2**\n",
    "\n",
    "Names: MAJARREIS, Isaiah\n",
    "       RUELOS, Miguel\n",
    "\n",
    "More information on the assessment is found in our Canvas course."
   ]
  },
  {
   "cell_type": "markdown",
   "metadata": {
    "id": "HxtmCAZwNoeU"
   },
   "source": [
    "# **Load Pre-trained Embeddings**\n",
    "\n",
    "*While you don't have to separate your code into blocks, it might be easier if you separated loading / downloading your data from the main part of your solution. Consider placing all loading of data into the code block below.*"
   ]
  },
  {
   "cell_type": "code",
   "execution_count": 2,
   "metadata": {
    "id": "CbvxU2oTM4IV",
    "tags": []
   },
   "outputs": [],
   "source": [
    "import spacy\n",
    "import numpy as np\n",
    "from sklearn.metrics.pairwise import cosine_similarity"
   ]
  },
  {
   "cell_type": "markdown",
   "metadata": {
    "id": "r8YCZLi-N0uR"
   },
   "source": [
    "# **Your Implementation**\n",
    "\n",
    "*Again, you don't have to have everything in one block. Use the notebook according to your preferences with the goal of fulfilling the assessment in mind.*"
   ]
  },
  {
   "cell_type": "markdown",
   "metadata": {},
   "source": [
    "# **Functions**"
   ]
  },
  {
   "cell_type": "code",
   "execution_count": 3,
   "metadata": {
    "id": "VqKjpUrkOSnC",
    "tags": []
   },
   "outputs": [],
   "source": [
    "# word vectors\n",
    "nlp = spacy.load('en_core_web_lg')\n",
    "\n",
    "# get the n most similar words\n",
    "def get_similar_words(target_word, n):\n",
    "    target_vector = nlp(str(target_word)).vector\n",
    "    all_words = [word for word in nlp.vocab if word.has_vector]\n",
    "    similarities = sorted(all_words, key=lambda word: nlp(word.text).vector.dot(target_vector), reverse=True)[:n]\n",
    "    return [(word.text, nlp(word.text).similarity(nlp(str(target_word)))) for word in similarities]\n",
    "\n",
    "# calculate cosine similarity between two words\n",
    "def calculate_similarity(word1, word2):\n",
    "    vector1 = nlp(word1).vector.reshape(1, -1)\n",
    "    vector2 = nlp(word2).vector.reshape(1, -1)\n",
    "    return cosine_similarity(vector1, vector2)[0, 0]"
   ]
  },
  {
   "cell_type": "markdown",
   "metadata": {},
   "source": [
    "# **Word Operations**"
   ]
  },
  {
   "cell_type": "code",
   "execution_count": 15,
   "metadata": {},
   "outputs": [
    {
     "name": "stdout",
     "output_type": "stream",
     "text": [
      "Randomly selected word: where\n",
      "\n",
      "Closest...\n",
      "10th - ('When', 0.49445740157950335)\n",
      "100th - ('Mont', 0.1565847596589339)\n",
      "1000th - None\n",
      "\n"
     ]
    },
    {
     "name": "stdin",
     "output_type": "stream",
     "text": [
      "Your guess:  Would\n"
     ]
    },
    {
     "name": "stdout",
     "output_type": "stream",
     "text": [
      "would : 0.32721904454274364\n"
     ]
    },
    {
     "name": "stdin",
     "output_type": "stream",
     "text": [
      "Your guess:  this\n"
     ]
    },
    {
     "name": "stdout",
     "output_type": "stream",
     "text": [
      "this : 0.4039410943460645\n"
     ]
    },
    {
     "name": "stdin",
     "output_type": "stream",
     "text": [
      "Your guess:  When\n"
     ]
    },
    {
     "name": "stdout",
     "output_type": "stream",
     "text": [
      "when : 0.5997703626700215\n"
     ]
    },
    {
     "name": "stdin",
     "output_type": "stream",
     "text": [
      "Your guess:  where\n"
     ]
    },
    {
     "name": "stdout",
     "output_type": "stream",
     "text": [
      "where : 1.0\n",
      "Great job on guessing the word!\n"
     ]
    }
   ],
   "source": [
    "# select a random word\n",
    "while True:\n",
    "    target_word = np.random.choice([word.text for word in nlp.vocab if word.has_vector])\n",
    "    if nlp(str(target_word)).has_vector:\n",
    "        break\n",
    "\n",
    "print(f\"Randomly selected word: {target_word}\\n\")\n",
    "\n",
    "# Output the similarity scores for the 10th, 100th, and 1000th most similar words\n",
    "similar_words_10th = get_similar_words(target_word, 10)[9] if len(get_similar_words(target_word, 10)) >= 10 else None\n",
    "similar_words_100th = get_similar_words(target_word, 100)[99] if len(get_similar_words(target_word, 100)) >= 100 else None\n",
    "similar_words_1000th = get_similar_words(target_word, 1000)[999] if len(get_similar_words(target_word, 1000)) >= 1000 else None\n",
    "\n",
    "print(f\"Closest...\\n10th - {similar_words_10th}\")\n",
    "print(f\"100th - {similar_words_100th}\")\n",
    "print(f\"1000th - {similar_words_1000th}\\n\")\n",
    "\n",
    "# word guessing loop\n",
    "while True:\n",
    "    user_guess = input(\"Your guess: \").lower().strip()  # Use strip() to remove leading/trailing whitespaces\n",
    "    if user_guess == str(target_word).lower():\n",
    "        print(f\"{target_word} : 1.0\")\n",
    "        print(\"Great job on guessing the word!\")\n",
    "        break\n",
    "    elif user_guess in nlp.vocab:\n",
    "        similarity_score = nlp(user_guess).similarity(nlp(str(target_word)))\n",
    "        print(f\"{user_guess} : {similarity_score}\")\n",
    "    else:\n",
    "        print(\"Word not recognized in the resource.\")"
   ]
  },
  {
   "cell_type": "code",
   "execution_count": null,
   "metadata": {},
   "outputs": [],
   "source": []
  }
 ],
 "metadata": {
  "colab": {
   "provenance": []
  },
  "kernelspec": {
   "display_name": "Python 3 (ipykernel)",
   "language": "python",
   "name": "python3"
  },
  "language_info": {
   "codemirror_mode": {
    "name": "ipython",
    "version": 3
   },
   "file_extension": ".py",
   "mimetype": "text/x-python",
   "name": "python",
   "nbconvert_exporter": "python",
   "pygments_lexer": "ipython3",
   "version": "3.11.5"
  }
 },
 "nbformat": 4,
 "nbformat_minor": 4
}
