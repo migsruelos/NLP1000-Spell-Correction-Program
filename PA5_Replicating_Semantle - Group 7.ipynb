{
 "cells": [
  {
   "cell_type": "markdown",
   "metadata": {
    "id": "3i3m9JjeM5U5"
   },
   "source": [
    "# **Programming Assessment \\#5**\n",
    "\n",
    "Names: MAJARREIS, Isaiah\n",
    "       RUELOS, Miguel\n",
    "\n",
    "More information on the assessment is found in our Canvas course."
   ]
  },
  {
   "cell_type": "markdown",
   "metadata": {
    "id": "HxtmCAZwNoeU"
   },
   "source": [
    "# **Load Pre-trained Embeddings**\n",
    "\n",
    "*While you don't have to separate your code into blocks, it might be easier if you separated loading / downloading your data from the main part of your solution. Consider placing all loading of data into the code block below.*"
   ]
  },
  {
   "cell_type": "code",
   "execution_count": 1,
   "metadata": {
    "id": "CbvxU2oTM4IV"
   },
   "outputs": [],
   "source": [
    "import numpy as np\n",
    "from gensim.models import KeyedVectors\n",
    "from sklearn.metrics.pairwise import cosine_similarity"
   ]
  },
  {
   "cell_type": "markdown",
   "metadata": {
    "id": "r8YCZLi-N0uR"
   },
   "source": [
    "# **Your Implementation**\n",
    "\n",
    "*Again, you don't have to have everything in one block. Use the notebook according to your preferences with the goal of fulfilling the assessment in mind.*"
   ]
  },
  {
   "cell_type": "markdown",
   "metadata": {},
   "source": [
    "# **Functions**"
   ]
  },
  {
   "cell_type": "code",
   "execution_count": 7,
   "metadata": {
    "id": "VqKjpUrkOSnC"
   },
   "outputs": [],
   "source": [
    "# word vectors\n",
    "word_vectors = KeyedVectors.load_word2vec_format('wiki-news-300d-1M.vec')\n",
    "\n",
    "# get the n most similar words\n",
    "def get_similar_words(target_word, n):\n",
    "    similarities = word_vectors.most_similar(target_word, topn=n)\n",
    "    return similarities\n",
    "\n",
    "# calculate cosine similarity between two words\n",
    "def calculate_similarity(word1, word2):\n",
    "    vector1 = word_vectors[word1].reshape(1, -1)\n",
    "    vector2 = word_vectors[word2].reshape(1, -1)\n",
    "    return cosine_similarity(vector1, vector2)[0, 0]"
   ]
  },
  {
   "cell_type": "markdown",
   "metadata": {},
   "source": [
    "# **Word Operations**"
   ]
  },
  {
   "cell_type": "code",
   "execution_count": 24,
   "metadata": {
    "scrolled": false
   },
   "outputs": [
    {
     "name": "stdout",
     "output_type": "stream",
     "text": [
      "Randomly selected word: Kathlyn\n",
      "\n",
      "Closest...\n",
      "10th - Pamala 0.6223087906837463 \n",
      "50th - LaVonne 0.6023423671722412 \n",
      "100th - Dalene 0.5892855525016785 \n",
      "\n",
      "Your guess: katy\n",
      "katy : 0.3729938268661499\n",
      "Your guess: kathlyn\n",
      "Kathlyn : 1.0\n",
      "Great job on guessing the word!\n"
     ]
    }
   ],
   "source": [
    "# select a random word\n",
    "while True:\n",
    "    target_word = np.random.choice(word_vectors.index_to_key)\n",
    "    if target_word in word_vectors:\n",
    "        break\n",
    "print(f\"Randomly selected word: {target_word}\\n\")\n",
    "\n",
    "# get similarity scores for the 10th, 50th, and 100th most similar words\n",
    "similar_words_10th = get_similar_words(target_word, 10)[9]\n",
    "similar_words_50th = get_similar_words(target_word, 50)[49]\n",
    "similar_words_100th = get_similar_words(target_word, 100)[99]\n",
    "\n",
    "print(f\"Closest...\\n10th - {similar_words_10th[0]} {similar_words_10th[1]} \")\n",
    "print(f\"50th - {similar_words_50th[0]} {similar_words_50th[1]} \")\n",
    "print(f\"100th - {similar_words_100th[0]} {similar_words_100th[1]} \\n\")\n",
    "\n",
    "# word guessing loop\n",
    "while True:\n",
    "    user_guess = input(\"Your guess: \").lower()\n",
    "\n",
    "    if user_guess == target_word.lower():\n",
    "        print(f\"{target_word} : 1.0\")\n",
    "        print(\"Great job on guessing the word!\")\n",
    "        break\n",
    "    elif user_guess in word_vectors:\n",
    "        similarity_score = calculate_similarity(user_guess, target_word)\n",
    "        print(f\"{user_guess} : {similarity_score}\")\n",
    "    else:\n",
    "        print(f\"Word not recognized in the resource.\")"
   ]
  }
 ],
 "metadata": {
  "colab": {
   "provenance": []
  },
  "kernelspec": {
   "display_name": "Python 3 (ipykernel)",
   "language": "python",
   "name": "python3"
  },
  "language_info": {
   "codemirror_mode": {
    "name": "ipython",
    "version": 3
   },
   "file_extension": ".py",
   "mimetype": "text/x-python",
   "name": "python",
   "nbconvert_exporter": "python",
   "pygments_lexer": "ipython3",
   "version": "3.9.18"
  }
 },
 "nbformat": 4,
 "nbformat_minor": 1
}
